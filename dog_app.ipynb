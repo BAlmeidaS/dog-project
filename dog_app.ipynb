{
 "cells": [
  {
   "cell_type": "markdown",
   "metadata": {},
   "source": [
    "# Artificial Intelligence Nanodegree\n",
    "\n",
    "## Convolutional Neural Networks\n",
    "\n",
    "## Project: Write an Algorithm for a Dog Identification App \n",
    "\n",
    "---\n",
    "\n",
    "In this notebook, some template code has already been provided for you, and you will need to implement additional functionality to successfully complete this project. You will not need to modify the included code beyond what is requested. Sections that begin with **'(IMPLEMENTATION)'** in the header indicate that the following block of code will require additional functionality which you must provide. Instructions will be provided for each section, and the specifics of the implementation are marked in the code block with a 'TODO' statement. Please be sure to read the instructions carefully! \n",
    "\n",
    "> **Note**: Once you have completed all of the code implementations, you need to finalize your work by exporting the iPython Notebook as an HTML document. Before exporting the notebook to html, all of the code cells need to have been run so that reviewers can see the final implementation and output. You can then export the notebook by using the menu above and navigating to  \\n\",\n",
    "    \"**File -> Download as -> HTML (.html)**. Include the finished document along with this notebook as your submission.\n",
    "\n",
    "In addition to implementing code, there will be questions that you must answer which relate to the project and your implementation. Each section where you will answer a question is preceded by a **'Question X'** header. Carefully read each question and provide thorough answers in the following text boxes that begin with **'Answer:'**. Your project submission will be evaluated based on your answers to each of the questions and the implementation you provide.\n",
    "\n",
    ">**Note:** Code and Markdown cells can be executed using the **Shift + Enter** keyboard shortcut.  Markdown cells can be edited by double-clicking the cell to enter edit mode.\n",
    "\n",
    "The rubric contains _optional_ \"Stand Out Suggestions\" for enhancing the project beyond the minimum requirements. If you decide to pursue the \"Stand Out Suggestions\", you should include the code in this IPython notebook.\n",
    "\n",
    "\n",
    "\n",
    "---\n",
    "### Why We're Here \n",
    "\n",
    "In this notebook, you will make the first steps towards developing an algorithm that could be used as part of a mobile or web app.  At the end of this project, your code will accept any user-supplied image as input.  If a dog is detected in the image, it will provide an estimate of the dog's breed.  If a human is detected, it will provide an estimate of the dog breed that is most resembling.  The image below displays potential sample output of your finished project (... but we expect that each student's algorithm will behave differently!). \n",
    "\n",
    "![Sample Dog Output](images/sample_dog_output.png)\n",
    "\n",
    "In this real-world setting, you will need to piece together a series of models to perform different tasks; for instance, the algorithm that detects humans in an image will be different from the CNN that infers dog breed.  There are many points of possible failure, and no perfect algorithm exists.  Your imperfect solution will nonetheless create a fun user experience!\n",
    "\n",
    "### The Road Ahead\n",
    "\n",
    "We break the notebook into separate steps.  Feel free to use the links below to navigate the notebook.\n",
    "\n",
    "* [Step 0](#step0): Import Datasets\n",
    "* [Step 1](#step1): Detect Humans\n",
    "* [Step 2](#step2): Detect Dogs\n",
    "* [Step 3](#step3): Create a CNN to Classify Dog Breeds (from Scratch)\n",
    "* [Step 4](#step4): Use a CNN to Classify Dog Breeds (using Transfer Learning)\n",
    "* [Step 5](#step5): Create a CNN to Classify Dog Breeds (using Transfer Learning)\n",
    "* [Step 6](#step6): Write your Algorithm\n",
    "* [Step 7](#step7): Test Your Algorithm\n",
    "\n",
    "---\n",
    "<a id='step0'></a>\n",
    "## Step 0: Import Datasets\n",
    "\n",
    "### Import Dog Dataset\n",
    "\n",
    "In the code cell below, we import a dataset of dog images.  We populate a few variables through the use of the `load_files` function from the scikit-learn library:\n",
    "- `train_files`, `valid_files`, `test_files` - numpy arrays containing file paths to images\n",
    "- `train_targets`, `valid_targets`, `test_targets` - numpy arrays containing onehot-encoded classification labels \n",
    "- `dog_names` - list of string-valued dog breed names for translating labels"
   ]
  },
  {
   "cell_type": "code",
   "execution_count": 1,
   "metadata": {
    "cell_style": "center"
   },
   "outputs": [
    {
     "name": "stderr",
     "output_type": "stream",
     "text": [
      "Using TensorFlow backend.\n"
     ]
    },
    {
     "name": "stdout",
     "output_type": "stream",
     "text": [
      "There are 133 total dog categories.\n",
      "There are 8351 total dog images.\n",
      "\n",
      "There are 6680 training dog images.\n",
      "There are 835 validation dog images.\n",
      "There are 836 test dog images.\n"
     ]
    }
   ],
   "source": [
    "from sklearn.datasets import load_files       \n",
    "from keras.utils import np_utils\n",
    "import numpy as np\n",
    "from glob import glob\n",
    "from time import time\n",
    "from tqdm import tqdm\n",
    "\n",
    "# define function to load train, test, and validation datasets\n",
    "def load_dataset(path):\n",
    "    data = load_files(path)\n",
    "    dog_files = np.array(data['filenames'])\n",
    "    dog_targets = np_utils.to_categorical(np.array(data['target']), 133)\n",
    "    return dog_files, dog_targets\n",
    "\n",
    "# load train, test, and validation datasets\n",
    "train_files, train_targets = load_dataset('dogImages/train')\n",
    "valid_files, valid_targets = load_dataset('dogImages/valid')\n",
    "test_files, test_targets = load_dataset('dogImages/test')\n",
    "\n",
    "# load list of dog names\n",
    "dog_names = [item[20:-1] for item in sorted(glob(\"dogImages/train/*/\"))]\n",
    "\n",
    "# print statistics about the dataset\n",
    "print('There are %d total dog categories.' % len(dog_names))\n",
    "print('There are %s total dog images.\\n' % len(np.hstack([train_files, valid_files, test_files])))\n",
    "print('There are %d training dog images.' % len(train_files))\n",
    "print('There are %d validation dog images.' % len(valid_files))\n",
    "print('There are %d test dog images.'% len(test_files))"
   ]
  },
  {
   "cell_type": "markdown",
   "metadata": {},
   "source": [
    "### Import Human Dataset\n",
    "\n",
    "In the code cell below, we import a dataset of human images, where the file paths are stored in the numpy array `human_files`."
   ]
  },
  {
   "cell_type": "code",
   "execution_count": 2,
   "metadata": {
    "cell_style": "center"
   },
   "outputs": [
    {
     "name": "stdout",
     "output_type": "stream",
     "text": [
      "There are 13233 total human images.\n"
     ]
    }
   ],
   "source": [
    "import random\n",
    "random.seed(8675309)\n",
    "\n",
    "# load filenames in shuffled human dataset\n",
    "human_files = np.array(glob(\"lfw/*/*\"))\n",
    "random.shuffle(human_files)\n",
    "\n",
    "# print statistics about the dataset\n",
    "print('There are %d total human images.' % len(human_files))"
   ]
  },
  {
   "cell_type": "markdown",
   "metadata": {},
   "source": [
    "---\n",
    "<a id='step1'></a>\n",
    "## Step 1: Detect Humans\n",
    "\n",
    "We use OpenCV's implementation of [Haar feature-based cascade classifiers](http://docs.opencv.org/trunk/d7/d8b/tutorial_py_face_detection.html) to detect human faces in images.  OpenCV provides many pre-trained face detectors, stored as XML files on [github](https://github.com/opencv/opencv/tree/master/data/haarcascades).  We have downloaded one of these detectors and stored it in the `haarcascades` directory.\n",
    "\n",
    "In the next code cell, we demonstrate how to use this detector to find human faces in a sample image."
   ]
  },
  {
   "cell_type": "code",
   "execution_count": 3,
   "metadata": {},
   "outputs": [
    {
     "name": "stdout",
     "output_type": "stream",
     "text": [
      "Number of faces detected: 1\n"
     ]
    },
    {
     "data": {
      "image/png": "[encoded data removed]",
      "text/plain": [
       "<Figure size 432x288 with 1 Axes>"
      ]
     },
     "metadata": {
      "needs_background": "light"
     },
     "output_type": "display_data"
    }
   ],
   "source": [
    "import cv2                \n",
    "import matplotlib.pyplot as plt                        \n",
    "%matplotlib inline                               \n",
    "\n",
    "# extract pre-trained face detector\n",
    "face_cascade = cv2.CascadeClassifier('haarcascades/haarcascade_frontalface_alt.xml')\n",
    "\n",
    "# load color (BGR) image\n",
    "img = cv2.imread(human_files[3])\n",
    "# convert BGR image to grayscale\n",
    "gray = cv2.cvtColor(img, cv2.COLOR_BGR2GRAY)\n",
    "\n",
    "# find faces in image\n",
    "faces = face_cascade.detectMultiScale(gray)\n",
    "\n",
    "# print number of faces detected in the image\n",
    "print('Number of faces detected:', len(faces))\n",
    "\n",
    "# get bounding box for each detected face\n",
    "for (x,y,w,h) in faces:\n",
    "    # add bounding box to color image\n",
    "    cv2.rectangle(img,(x,y),(x+w,y+h),(255,0,0),2)\n",
    "    \n",
    "# convert BGR image to RGB for plotting\n",
    "cv_rgb = cv2.cvtColor(img, cv2.COLOR_BGR2RGB)\n",
    "\n",
    "# display the image, along with bounding box\n",
    "plt.imshow(cv_rgb)\n",
    "plt.show()"
   ]
  },
  {
   "cell_type": "markdown",
   "metadata": {},
   "source": [
    "Before using any of the face detectors, it is standard procedure to convert the images to grayscale.  The `detectMultiScale` function executes the classifier stored in `face_cascade` and takes the grayscale image as a parameter.  \n",
    "\n",
    "In the above code, `faces` is a numpy array of detected faces, where each row corresponds to a detected face.  Each detected face is a 1D array with four entries that specifies the bounding box of the detected face.  The first two entries in the array (extracted in the above code as `x` and `y`) specify the horizontal and vertical positions of the top left corner of the bounding box.  The last two entries in the array (extracted here as `w` and `h`) specify the width and height of the box.\n",
    "\n",
    "### Write a Human Face Detector\n",
    "\n",
    "We can use this procedure to write a function that returns `True` if a human face is detected in an image and `False` otherwise.  This function, aptly named `face_detector`, takes a string-valued file path to an image as input and appears in the code block below."
   ]
  },
  {
   "cell_type": "code",
   "execution_count": 4,
   "metadata": {},
   "outputs": [],
   "source": [
    "# returns \"True\" if face is detected in image stored at img_path\n",
    "def face_detector(img_path):\n",
    "    img = cv2.imread(img_path)\n",
    "    gray = cv2.cvtColor(img, cv2.COLOR_BGR2GRAY)\n",
    "    faces = face_cascade.detectMultiScale(gray)\n",
    "    return len(faces) > 0"
   ]
  },
  {
   "cell_type": "markdown",
   "metadata": {},
   "source": [
    "### (IMPLEMENTATION) Assess the Human Face Detector\n",
    "\n",
    "__Question 1:__ Use the code cell below to test the performance of the `face_detector` function.  \n",
    "- What percentage of the first 100 images in `human_files` have a detected human face?  \n",
    "- What percentage of the first 100 images in `dog_files` have a detected human face? \n",
    "\n",
    "Ideally, we would like 100% of human images with a detected face and 0% of dog images with a detected face.  You will see that our algorithm falls short of this goal, but still gives acceptable performance.  We extract the file paths for the first 100 images from each of the datasets and store them in the numpy arrays `human_files_short` and `dog_files_short`.\n",
    "\n",
    "__Answer:__ "
   ]
  },
  {
   "cell_type": "code",
   "execution_count": 5,
   "metadata": {},
   "outputs": [
    {
     "name": "stdout",
     "output_type": "stream",
     "text": [
      "Performance in human files:  0.99\n",
      "Performance in dog files:  0.12\n"
     ]
    }
   ],
   "source": [
    "human_files_short = human_files[:100]\n",
    "dog_files_short = train_files[:100]\n",
    "# Do NOT modify the code above this line.\n",
    "\n",
    "def performance(files: list) -> float:\n",
    "    return sum([face_detector(item) for item in files]) / len(files)\n",
    "\n",
    "print('Performance in human files: ', performance(human_files_short))\n",
    "print('Performance in dog files: ', performance(dog_files_short))"
   ]
  },
  {
   "cell_type": "markdown",
   "metadata": {},
   "source": [
    "__Question 2:__ This algorithmic choice necessitates that we communicate to the user that we accept human images only when they provide a clear view of a face (otherwise, we risk having unneccessarily frustrated users!). In your opinion, is this a reasonable expectation to pose on the user? If not, can you think of a way to detect humans in images that does not necessitate an image with a clearly presented face?\n",
    "\n",
    "__Answer:__ *Yes, it is reasonable, for a more MVP approach like. User could accept that and maybe he/she will understand if the algorithm does not recognized extremely well. On the other hand, we should do a quick search trying to find more sofisticated algorithm, if, with this simplistic opencv algorithm, we achieve this pretty good performance, what we could have with a more sophisticated one*\n",
    "\n",
    "We suggest the face detector from OpenCV as a potential way to detect human images in your algorithm, but you are free to explore other approaches, especially approaches that make use of deep learning :).  Please use the code cell below to design and test your own face detection algorithm.  If you decide to pursue this _optional_ task, report performance on each of the datasets."
   ]
  },
  {
   "cell_type": "code",
   "execution_count": 6,
   "metadata": {},
   "outputs": [
    {
     "name": "stdout",
     "output_type": "stream",
     "text": [
      "Performance of Haar in the sample:  0.983\n"
     ]
    }
   ],
   "source": [
    "#setting numpy seed\n",
    "np.random.seed(17)\n",
    "\n",
    "sample_human_files = np.random.choice(human_files, 1000)\n",
    "\n",
    "print('Performance of Haar in the sample: ', performance(sample_human_files))"
   ]
  },
  {
   "cell_type": "markdown",
   "metadata": {},
   "source": [
    "#### Human Face Detector with MTCNN"
   ]
  },
  {
   "cell_type": "code",
   "execution_count": 7,
   "metadata": {},
   "outputs": [
    {
     "name": "stdout",
     "output_type": "stream",
     "text": [
      "Requirement already satisfied: mtcnn in /home/bruno/.virtualenvs/ml/lib/python3.7/site-packages (0.0.9)\n",
      "\u001b[33mWARNING: You are using pip version 19.1.1, however version 19.2.2 is available.\n",
      "You should consider upgrading via the 'pip install --upgrade pip' command.\u001b[0m\n"
     ]
    }
   ],
   "source": [
    "!pip3 install mtcnn\n",
    "# using mtcnn, a CNN made using tensorflow created to identifying faces\n",
    "# https://github.com/ipazc/mtcnn"
   ]
  },
  {
   "cell_type": "code",
   "execution_count": 8,
   "metadata": {},
   "outputs": [
    {
     "name": "stderr",
     "output_type": "stream",
     "text": [
      "W0817 02:02:29.655529 140017388421440 deprecation_wrapper.py:119] From /home/bruno/.virtualenvs/ml/local/lib/python3.7/site-packages/mtcnn/network.py:43: The name tf.variable_scope is deprecated. Please use tf.compat.v1.variable_scope instead.\n",
      "\n",
      "W0817 02:02:29.656423 140017388421440 deprecation_wrapper.py:119] From /home/bruno/.virtualenvs/ml/local/lib/python3.7/site-packages/mtcnn/layer_factory.py:88: The name tf.placeholder is deprecated. Please use tf.compat.v1.placeholder instead.\n",
      "\n",
      "W0817 02:02:29.658793 140017388421440 deprecation_wrapper.py:119] From /home/bruno/.virtualenvs/ml/local/lib/python3.7/site-packages/mtcnn/layer_factory.py:79: The name tf.get_variable is deprecated. Please use tf.compat.v1.get_variable instead.\n",
      "\n",
      "W0817 02:02:29.659911 140017388421440 deprecation.py:506] From /home/bruno/.virtualenvs/ml/local/lib/python3.7/site-packages/tensorflow/python/ops/init_ops.py:1251: calling VarianceScaling.__init__ (from tensorflow.python.ops.init_ops) with dtype is deprecated and will be removed in a future version.\n",
      "Instructions for updating:\n",
      "Call initializer instance with the dtype argument instead of passing it to the constructor\n",
      "W0817 02:02:29.679973 140017388421440 deprecation_wrapper.py:119] From /home/bruno/.virtualenvs/ml/local/lib/python3.7/site-packages/mtcnn/layer_factory.py:171: The name tf.nn.max_pool is deprecated. Please use tf.nn.max_pool2d instead.\n",
      "\n",
      "W0817 02:02:29.723690 140017388421440 deprecation.py:323] From /home/bruno/.virtualenvs/ml/local/lib/python3.7/site-packages/mtcnn/layer_factory.py:221: div (from tensorflow.python.ops.math_ops) is deprecated and will be removed in a future version.\n",
      "Instructions for updating:\n",
      "Deprecated in favor of operator or tf.math.divide.\n",
      "W0817 02:02:36.759270 140017388421440 deprecation_wrapper.py:119] From /home/bruno/.virtualenvs/ml/local/lib/python3.7/site-packages/mtcnn/layer_factory.py:196: The name tf.nn.xw_plus_b is deprecated. Please use tf.compat.v1.nn.xw_plus_b instead.\n",
      "\n"
     ]
    },
    {
     "name": "stdout",
     "output_type": "stream",
     "text": [
      "[{'box': [77, 60, 99, 137], 'confidence': 0.9999973773956299, 'keypoints': {'left_eye': (86, 125), 'right_eye': (120, 111), 'nose': (95, 145), 'mouth_left': (104, 174), 'mouth_right': (130, 162)}}]\n"
     ]
    },
    {
     "data": {
      "image/png": "[encoded data removed]",
      "text/plain": [
       "<Figure size 432x288 with 1 Axes>"
      ]
     },
     "metadata": {
      "needs_background": "light"
     },
     "output_type": "display_data"
    }
   ],
   "source": [
    "from mtcnn.mtcnn import MTCNN\n",
    "import cv2\n",
    "\n",
    "img = cv2.cvtColor(cv2.imread(human_files[84]), cv2.COLOR_BGR2RGB)\n",
    "detector = MTCNN()\n",
    "detect = detector.detect_faces(img)\n",
    "print(detect)\n",
    "\n",
    "for (x,y,w,h) in [face['box'] for face in detect]:\n",
    "    cv2.rectangle(img, (x,y),(x+w,y+h),(0,255,0), 2)\n",
    "\n",
    "plt.imshow(img)\n",
    "plt.show()"
   ]
  },
  {
   "cell_type": "code",
   "execution_count": 9,
   "metadata": {},
   "outputs": [
    {
     "name": "stdout",
     "output_type": "stream",
     "text": [
      "Performance of HAAR in the sample:  0.983\n",
      "Time to classify 1000 images with HAAR is 11.47809362411499 seconds\n",
      "\n",
      "Performance of MTCNN in the sample:  1.0\n",
      "Time to classify 1000 images with MTCNN is 19.24578070640564 seconds\n",
      "\n",
      "Performance of MTCNN with dog files:  0.25\n"
     ]
    }
   ],
   "source": [
    "def face_detector_mtcnn(img_path: str) -> bool:\n",
    "    img = cv2.imread(img_path)\n",
    "    color = cv2.cvtColor(img, cv2.COLOR_BGR2RGB)\n",
    "    detect = detector.detect_faces(color)\n",
    "    return len(detect) > 0\n",
    "\n",
    "def performance_mtcnn(files: list) -> float:\n",
    "    return sum([face_detector_mtcnn(item) for item in files]) / len(files)\n",
    "\n",
    "# Rerunning HAAR\n",
    "start = time()\n",
    "print('Performance of HAAR in the sample: ', performance(sample_human_files))\n",
    "end = time()\n",
    "print(f'Time to classify {len(sample_human_files)} images with HAAR is {end - start} seconds')\n",
    "\n",
    "print('')\n",
    "\n",
    "#Running MTCNN\n",
    "start = time()\n",
    "print('Performance of MTCNN in the sample: ', performance_mtcnn(sample_human_files))\n",
    "end = time()\n",
    "print(f'Time to classify {len(sample_human_files)} images with MTCNN is {end - start} seconds')\n",
    "\n",
    "print('')\n",
    "\n",
    "#Running in dogs dataset\n",
    "print('Performance of MTCNN with dog files: ', performance_mtcnn(dog_files_short))"
   ]
  },
  {
   "cell_type": "markdown",
   "metadata": {},
   "source": [
    "**So what about MTCNN?**\n",
    "\n",
    "MTCNN is a nice network with pretty good results, it is very sensibility to recognize faces in images, even though, it is a much slower (around 70% slower) than HAAR, which was expected. MTCNN combines three CNNs to find the face in the picture, the first CNN is the generalist of them, and the other two are responsible to refine the job, more informations about the network itself could be found in here: https://arxiv.org/pdf/1604.02878.pdf\n",
    "\n",
    "Unfortunately, MTCNN is so sensibility to recognize faces, that it founds more faces on dogs images than HAAR, so its sensitivity is lower.\n",
    "\n",
    "Despite the fact, MTCNN is a very good option to HAAR, so I will probably follow with it in the rest of the project."
   ]
  },
  {
   "cell_type": "markdown",
   "metadata": {},
   "source": [
    "---\n",
    "<a id='step2'></a>\n",
    "## Step 2: Detect Dogs\n",
    "\n",
    "In this section, we use a pre-trained [ResNet-50](http://ethereon.github.io/netscope/#/gist/db945b393d40bfa26006) model to detect dogs in images.  Our first line of code downloads the ResNet-50 model, along with weights that have been trained on [ImageNet](http://www.image-net.org/), a very large, very popular dataset used for image classification and other vision tasks.  ImageNet contains over 10 million URLs, each linking to an image containing an object from one of [1000 categories](https://gist.github.com/yrevar/942d3a0ac09ec9e5eb3a).  Given an image, this pre-trained ResNet-50 model returns a prediction (derived from the available categories in ImageNet) for the object that is contained in the image."
   ]
  },
  {
   "cell_type": "code",
   "execution_count": 10,
   "metadata": {},
   "outputs": [
    {
     "name": "stderr",
     "output_type": "stream",
     "text": [
      "W0817 02:03:22.128822 140017388421440 deprecation_wrapper.py:119] From /home/bruno/.virtualenvs/ml/local/lib/python3.7/site-packages/keras/backend/tensorflow_backend.py:3468: The name tf.nn.avg_pool is deprecated. Please use tf.nn.avg_pool2d instead.\n",
      "\n",
      "W0817 02:03:22.131798 140017388421440 deprecation.py:506] From /home/bruno/.virtualenvs/ml/local/lib/python3.7/site-packages/keras/backend/tensorflow_backend.py:1264: calling reduce_prod_v1 (from tensorflow.python.ops.math_ops) with keep_dims is deprecated and will be removed in a future version.\n",
      "Instructions for updating:\n",
      "keep_dims is deprecated, use keepdims instead\n"
     ]
    }
   ],
   "source": [
    "from keras.applications.resnet50 import ResNet50\n",
    "\n",
    "# define ResNet50 model\n",
    "ResNet50_model = ResNet50(weights='imagenet')"
   ]
  },
  {
   "cell_type": "markdown",
   "metadata": {},
   "source": [
    "### Pre-process the Data\n",
    "\n",
    "When using TensorFlow as backend, Keras CNNs require a 4D array (which we'll also refer to as a 4D tensor) as input, with shape\n",
    "\n",
    "$$\n",
    "(\\text{nb_samples}, \\text{rows}, \\text{columns}, \\text{channels}),\n",
    "$$\n",
    "\n",
    "where `nb_samples` corresponds to the total number of images (or samples), and `rows`, `columns`, and `channels` correspond to the number of rows, columns, and channels for each image, respectively.  \n",
    "\n",
    "The `path_to_tensor` function below takes a string-valued file path to a color image as input and returns a 4D tensor suitable for supplying to a Keras CNN.  The function first loads the image and resizes it to a square image that is $224 \\times 224$ pixels.  Next, the image is converted to an array, which is then resized to a 4D tensor.  In this case, since we are working with color images, each image has three channels.  Likewise, since we are processing a single image (or sample), the returned tensor will always have shape\n",
    "\n",
    "$$\n",
    "(1, 224, 224, 3).\n",
    "$$\n",
    "\n",
    "The `paths_to_tensor` function takes a numpy array of string-valued image paths as input and returns a 4D tensor with shape \n",
    "\n",
    "$$\n",
    "(\\text{nb_samples}, 224, 224, 3).\n",
    "$$\n",
    "\n",
    "Here, `nb_samples` is the number of samples, or number of images, in the supplied array of image paths.  It is best to think of `nb_samples` as the number of 3D tensors (where each 3D tensor corresponds to a different image) in your dataset!"
   ]
  },
  {
   "cell_type": "code",
   "execution_count": 11,
   "metadata": {},
   "outputs": [],
   "source": [
    "from keras.preprocessing import image                  \n",
    "from tqdm import tqdm\n",
    "\n",
    "def path_to_tensor(img_path):\n",
    "    # loads RGB image as PIL.Image.Image type\n",
    "    img = image.load_img(img_path, target_size=(224, 224))\n",
    "    # convert PIL.Image.Image type to 3D tensor with shape (224, 224, 3)\n",
    "    x = image.img_to_array(img)\n",
    "    # convert 3D tensor to 4D tensor with shape (1, 224, 224, 3) and return 4D tensor\n",
    "    return np.expand_dims(x, axis=0)\n",
    "\n",
    "def paths_to_tensor(img_paths):\n",
    "    list_of_tensors = [path_to_tensor(img_path) for img_path in tqdm(img_paths)]\n",
    "    return np.vstack(list_of_tensors)"
   ]
  },
  {
   "cell_type": "markdown",
   "metadata": {},
   "source": [
    "### Making Predictions with ResNet-50\n",
    "\n",
    "Getting the 4D tensor ready for ResNet-50, and for any other pre-trained model in Keras, requires some additional processing.  First, the RGB image is converted to BGR by reordering the channels.  All pre-trained models have the additional normalization step that the mean pixel (expressed in RGB as $[103.939, 116.779, 123.68]$ and calculated from all pixels in all images in ImageNet) must be subtracted from every pixel in each image.  This is implemented in the imported function `preprocess_input`.  If you're curious, you can check the code for `preprocess_input` [here](https://github.com/fchollet/keras/blob/master/keras/applications/imagenet_utils.py).\n",
    "\n",
    "Now that we have a way to format our image for supplying to ResNet-50, we are now ready to use the model to extract the predictions.  This is accomplished with the `predict` method, which returns an array whose $i$-th entry is the model's predicted probability that the image belongs to the $i$-th ImageNet category.  This is implemented in the `ResNet50_predict_labels` function below.\n",
    "\n",
    "By taking the argmax of the predicted probability vector, we obtain an integer corresponding to the model's predicted object class, which we can identify with an object category through the use of this [dictionary](https://gist.github.com/yrevar/942d3a0ac09ec9e5eb3a). "
   ]
  },
  {
   "cell_type": "code",
   "execution_count": 12,
   "metadata": {},
   "outputs": [],
   "source": [
    "from keras.applications.resnet50 import preprocess_input, decode_predictions\n",
    "\n",
    "def ResNet50_predict_labels(img_path):\n",
    "    # returns prediction vector for image located at img_path\n",
    "    img = preprocess_input(path_to_tensor(img_path))\n",
    "    return np.argmax(ResNet50_model.predict(img))"
   ]
  },
  {
   "cell_type": "markdown",
   "metadata": {},
   "source": [
    "### Write a Dog Detector\n",
    "\n",
    "While looking at the [dictionary](https://gist.github.com/yrevar/942d3a0ac09ec9e5eb3a), you will notice that the categories corresponding to dogs appear in an uninterrupted sequence and correspond to dictionary keys 151-268, inclusive, to include all categories from `'Chihuahua'` to `'Mexican hairless'`.  Thus, in order to check to see if an image is predicted to contain a dog by the pre-trained ResNet-50 model, we need only check if the `ResNet50_predict_labels` function above returns a value between 151 and 268 (inclusive).\n",
    "\n",
    "We use these ideas to complete the `dog_detector` function below, which returns `True` if a dog is detected in an image (and `False` if not)."
   ]
  },
  {
   "cell_type": "code",
   "execution_count": 13,
   "metadata": {},
   "outputs": [],
   "source": [
    "### returns \"True\" if a dog is detected in the image stored at img_path\n",
    "def dog_detector(img_path):\n",
    "    prediction = ResNet50_predict_labels(img_path)\n",
    "    return ((prediction <= 268) & (prediction >= 151)) "
   ]
  },
  {
   "cell_type": "markdown",
   "metadata": {},
   "source": [
    "### (IMPLEMENTATION) Assess the Dog Detector\n",
    "\n",
    "__Question 3:__ Use the code cell below to test the performance of your `dog_detector` function.  \n",
    "- What percentage of the images in `human_files_short` have a detected dog?  \n",
    "- What percentage of the images in `dog_files_short` have a detected dog?\n",
    "\n",
    "__Answer:__ \n",
    "*Human_files_short detected dog in 1% of the photos.\n",
    "Dog_files_short detected dog in 100% of the photos.*"
   ]
  },
  {
   "cell_type": "code",
   "execution_count": 14,
   "metadata": {},
   "outputs": [
    {
     "name": "stderr",
     "output_type": "stream",
     "text": [
      "100%|██████████| 100/100 [00:02<00:00, 39.90it/s]\n",
      "  9%|▉         | 9/100 [00:00<00:01, 85.58it/s]"
     ]
    },
    {
     "name": "stdout",
     "output_type": "stream",
     "text": [
      "Dogs files recognize 100% of photos as a dog\n"
     ]
    },
    {
     "name": "stderr",
     "output_type": "stream",
     "text": [
      "100%|██████████| 100/100 [00:01<00:00, 85.48it/s]"
     ]
    },
    {
     "name": "stdout",
     "output_type": "stream",
     "text": [
      "Human files recognize 1% of photos as a dog\n"
     ]
    },
    {
     "name": "stderr",
     "output_type": "stream",
     "text": [
      "\n"
     ]
    }
   ],
   "source": [
    "### TODO: Test the performance of the dog_detector function\n",
    "### on the images in human_files_short and dog_files_short.\n",
    "\n",
    "def performance_dog(files: list) -> float:\n",
    "    return sum([dog_detector(img) for img in tqdm(files)]) / len(files)\n",
    "    \n",
    "\n",
    "print(f'Dogs files recognize {performance_dog(dog_files_short)*100:.0f}% of photos as a dog')\n",
    "print(f'Human files recognize {performance_dog(human_files_short)*100:.0f}% of photos as a dog')"
   ]
  },
  {
   "cell_type": "markdown",
   "metadata": {},
   "source": [
    "---\n",
    "<a id='step3'></a>\n",
    "## Step 3: Create a CNN to Classify Dog Breeds (from Scratch)\n",
    "\n",
    "Now that we have functions for detecting humans and dogs in images, we need a way to predict breed from images.  In this step, you will create a CNN that classifies dog breeds.  You must create your CNN _from scratch_ (so, you can't use transfer learning _yet_!), and you must attain a test accuracy of at least 1%.  In Step 5 of this notebook, you will have the opportunity to use transfer learning to create a CNN that attains greatly improved accuracy.\n",
    "\n",
    "Be careful with adding too many trainable layers!  More parameters means longer training, which means you are more likely to need a GPU to accelerate the training process.  Thankfully, Keras provides a handy estimate of the time that each epoch is likely to take; you can extrapolate this estimate to figure out how long it will take for your algorithm to train. \n",
    "\n",
    "We mention that the task of assigning breed to dogs from images is considered exceptionally challenging.  To see why, consider that *even a human* would have great difficulty in distinguishing between a Brittany and a Welsh Springer Spaniel.  \n",
    "\n",
    "Brittany | Welsh Springer Spaniel\n",
    "- | - \n",
    "<img src=\"images/Brittany_02625.jpg\" width=\"100\"> | <img src=\"images/Welsh_springer_spaniel_08203.jpg\" width=\"200\">\n",
    "\n",
    "It is not difficult to find other dog breed pairs with minimal inter-class variation (for instance, Curly-Coated Retrievers and American Water Spaniels).  \n",
    "\n",
    "Curly-Coated Retriever | American Water Spaniel\n",
    "- | -\n",
    "<img src=\"images/Curly-coated_retriever_03896.jpg\" width=\"200\"> | <img src=\"images/American_water_spaniel_00648.jpg\" width=\"200\">\n",
    "\n",
    "\n",
    "Likewise, recall that labradors come in yellow, chocolate, and black.  Your vision-based algorithm will have to conquer this high intra-class variation to determine how to classify all of these different shades as the same breed.  \n",
    "\n",
    "Yellow Labrador | Chocolate Labrador | Black Labrador\n",
    "- | -\n",
    "<img src=\"images/Labrador_retriever_06457.jpg\" width=\"150\"> | <img src=\"images/Labrador_retriever_06455.jpg\" width=\"240\"> | <img src=\"images/Labrador_retriever_06449.jpg\" width=\"220\">\n",
    "\n",
    "We also mention that random chance presents an exceptionally low bar: setting aside the fact that the classes are slightly imabalanced, a random guess will provide a correct answer roughly 1 in 133 times, which corresponds to an accuracy of less than 1%.  \n",
    "\n",
    "Remember that the practice is far ahead of the theory in deep learning.  Experiment with many different architectures, and trust your intuition.  And, of course, have fun! \n",
    "\n",
    "### Pre-process the Data\n",
    "\n",
    "We rescale the images by dividing every pixel in every image by 255."
   ]
  },
  {
   "cell_type": "code",
   "execution_count": 15,
   "metadata": {},
   "outputs": [
    {
     "name": "stderr",
     "output_type": "stream",
     "text": [
      "100%|██████████| 6680/6680 [00:29<00:00, 227.67it/s]\n",
      "100%|██████████| 835/835 [00:09<00:00, 83.78it/s] \n",
      "100%|██████████| 836/836 [00:10<00:00, 76.21it/s] \n"
     ]
    }
   ],
   "source": [
    "from PIL import ImageFile                            \n",
    "ImageFile.LOAD_TRUNCATED_IMAGES = True                 \n",
    "\n",
    "# pre-process the data for Keras\n",
    "train_tensors = paths_to_tensor(train_files).astype('float32')/255\n",
    "valid_tensors = paths_to_tensor(valid_files).astype('float32')/255\n",
    "test_tensors = paths_to_tensor(test_files).astype('float32')/255"
   ]
  },
  {
   "cell_type": "markdown",
   "metadata": {},
   "source": [
    "### (IMPLEMENTATION) Model Architecture\n",
    "\n",
    "Create a CNN to classify dog breed.  At the end of your code cell block, summarize the layers of your model by executing the line:\n",
    "    \n",
    "        model.summary()\n",
    "\n",
    "We have imported some Python modules to get you started, but feel free to import as many modules as you need.  If you end up getting stuck, here's a hint that specifies a model that trains relatively fast on CPU and attains >1% test accuracy in 5 epochs:\n",
    "\n",
    "![Sample CNN](images/sample_cnn.png)\n",
    "           \n",
    "__Question 4:__ Outline the steps you took to get to your final CNN architecture and your reasoning at each step.  If you chose to use the hinted architecture above, describe why you think that CNN architecture should work well for the image classification task.\n",
    "\n",
    "__Answer:__ Well, this was a very empirical job. I iterated many times, doing notes about the accuracy that I had and understading which is the form of the net. But I think a good overall explanation is:\n",
    "\n",
    "First of all: I set 20 epoch for each train iteration, this number I did not change in all process. At this point, I only used relu as an activation function on the hidden layers and rmsprop as optimizer, I made like this cause I want to reduce the number of variables to iterate, my main issue that I want to answer was what the best design of the Net that I could have. All the accuracy measures were made in val_acc (accuracy from the cross validation data)\n",
    "\n",
    "CNN 1- At beginning I started with just a convolutional layer(with kernel 3x3) with max polling (with a window 3x3), and using a global average layer to reduce each filter to one value. I put a dense layer with 133 nodes in the end, and measuring the acc: **2.16%**. This is a good value, but a very naive approach, this is good enough to follow on, but I decided iterate a bit.\n",
    "\n",
    "CNN 2- After the first test, I changed the net from having 1 Convolutional layer, to having 3, with this exponencial increase of filters: the first with 16, second 32, third 64. Each one with kernels 3x3 and max pooling with window 3x3. Still having a Global Polling at the end and the dense layer with the 133 categories. Quick observation, after this point I am going to assume that this last dense layer is useless to comment, it will never change, so I will not mention it anymore. This net gives me a acc: **3.59%**\n",
    "\n",
    "CNN 3- Then, I want to understand how good is to remove the Global Average layer and add a flatten layer. This approach leads me to an accuracy **8.98%**. But I changed from a scenario with 19k params to this new one, with 6.7M params to optimize. Anyway, I still could train timely, so I decide to move on with this flatten layer.\n",
    "CNN\n",
    "\n",
    "MLP 4- So, I want to understand now, how good add a layer after the flatten one, with 300 nodes. I achieved an accuracy of **7.92%**. So this is worse, I decided remove this flatten layer. \n",
    "\n",
    "CNN 5- For this final design test I just want to add one more Convolutional layer, with 128 filters. Acc: **12.69%**, so I found my final design.\n",
    "\n",
    "6- I made some tests changing the kernels and the windows of the pooling layers. Adding more convolutional layers. Non of those give me better results than CNN 5.\n",
    "\n",
    "Final comments:\n",
    "\n",
    "That was a behavior that I considered strange: At some point during the training, val_loss was increasing (so the fit will not use those new weights calculated) but the val_acc still increasing either, changing to a better value, theoretically. I opt to mention this behavior because, apparently it is very common but I think it very strange also."
   ]
  },
  {
   "cell_type": "code",
   "execution_count": 16,
   "metadata": {},
   "outputs": [
    {
     "name": "stdout",
     "output_type": "stream",
     "text": [
      "_________________________________________________________________\n",
      "Layer (type)                 Output Shape              Param #   \n",
      "=================================================================\n",
      "conv2d_1 (Conv2D)            (None, 224, 224, 16)      784       \n",
      "_________________________________________________________________\n",
      "max_pooling2d_2 (MaxPooling2 (None, 75, 75, 16)        0         \n",
      "_________________________________________________________________\n",
      "conv2d_2 (Conv2D)            (None, 75, 75, 32)        4640      \n",
      "_________________________________________________________________\n",
      "max_pooling2d_3 (MaxPooling2 (None, 25, 25, 32)        0         \n",
      "_________________________________________________________________\n",
      "conv2d_3 (Conv2D)            (None, 25, 25, 64)        18496     \n",
      "_________________________________________________________________\n",
      "max_pooling2d_4 (MaxPooling2 (None, 9, 9, 64)          0         \n",
      "_________________________________________________________________\n",
      "conv2d_4 (Conv2D)            (None, 9, 9, 128)         32896     \n",
      "_________________________________________________________________\n",
      "max_pooling2d_5 (MaxPooling2 (None, 5, 5, 128)         0         \n",
      "_________________________________________________________________\n",
      "flatten_2 (Flatten)          (None, 3200)              0         \n",
      "_________________________________________________________________\n",
      "dense_1 (Dense)              (None, 133)               425733    \n",
      "=================================================================\n",
      "Total params: 482,549\n",
      "Trainable params: 482,549\n",
      "Non-trainable params: 0\n",
      "_________________________________________________________________\n"
     ]
    }
   ],
   "source": [
    "from keras.layers import Conv2D, MaxPooling2D, GlobalAveragePooling2D\n",
    "from keras.layers import Dropout, Flatten, Dense\n",
    "from keras.models import Sequential\n",
    "\n",
    "model = Sequential()\n",
    "model.add(Conv2D(filters=16, kernel_size=4, padding='same', activation='relu', input_shape=(224, 224, 3)))\n",
    "model.add(MaxPooling2D(pool_size=3, padding='same'))\n",
    "model.add(Conv2D(filters=32, kernel_size=3, padding='same', activation='relu'))\n",
    "model.add(MaxPooling2D(pool_size=3, padding='same'))\n",
    "model.add(Conv2D(filters=64, kernel_size=3, padding='same', activation='relu'))\n",
    "model.add(MaxPooling2D(pool_size=3, padding='same'))\n",
    "model.add(Conv2D(filters=128, kernel_size=2, padding='same', activation='relu'))\n",
    "model.add(MaxPooling2D(pool_size=2, padding='same'))\n",
    "# model.add(GlobalAveragePooling2D())\n",
    "model.add(Flatten())\n",
    "# model.add(Dense(300, activation='relu'))\n",
    "model.add(Dense(133, activation='softmax'))\n",
    "model.summary()"
   ]
  },
  {
   "cell_type": "markdown",
   "metadata": {},
   "source": [
    "### Compile the Model"
   ]
  },
  {
   "cell_type": "code",
   "execution_count": 17,
   "metadata": {},
   "outputs": [
    {
     "name": "stderr",
     "output_type": "stream",
     "text": [
      "W0817 02:04:22.970494 140017388421440 deprecation_wrapper.py:119] From /home/bruno/.virtualenvs/ml/local/lib/python3.7/site-packages/keras/optimizers.py:711: The name tf.train.Optimizer is deprecated. Please use tf.compat.v1.train.Optimizer instead.\n",
      "\n",
      "W0817 02:04:23.006025 140017388421440 deprecation.py:506] From /home/bruno/.virtualenvs/ml/local/lib/python3.7/site-packages/keras/backend/tensorflow_backend.py:2885: calling reduce_sum_v1 (from tensorflow.python.ops.math_ops) with keep_dims is deprecated and will be removed in a future version.\n",
      "Instructions for updating:\n",
      "keep_dims is deprecated, use keepdims instead\n"
     ]
    }
   ],
   "source": [
    "model.compile(optimizer='RMSprop', loss='categorical_crossentropy', metrics=['accuracy'])"
   ]
  },
  {
   "cell_type": "markdown",
   "metadata": {},
   "source": [
    "### (IMPLEMENTATION) Train the Model\n",
    "\n",
    "Train your model in the code cell below.  Use model checkpointing to save the model that attains the best validation loss.\n",
    "\n",
    "You are welcome to [augment the training data](https://blog.keras.io/building-powerful-image-classification-models-using-very-little-data.html), but this is not a requirement. "
   ]
  },
  {
   "cell_type": "code",
   "execution_count": 18,
   "metadata": {},
   "outputs": [
    {
     "name": "stderr",
     "output_type": "stream",
     "text": [
      "W0817 02:04:23.189130 140017388421440 deprecation.py:323] From /home/bruno/.virtualenvs/ml/local/lib/python3.7/site-packages/tensorflow/python/ops/math_grad.py:1250: add_dispatch_support.<locals>.wrapper (from tensorflow.python.ops.array_ops) is deprecated and will be removed in a future version.\n",
      "Instructions for updating:\n",
      "Use tf.where in 2.0, which has the same broadcast rule as np.where\n",
      "W0817 02:04:23.228988 140017388421440 deprecation.py:506] From /home/bruno/.virtualenvs/ml/local/lib/python3.7/site-packages/keras/backend/tensorflow_backend.py:680: calling Constant.__init__ (from tensorflow.python.ops.init_ops) with dtype is deprecated and will be removed in a future version.\n",
      "Instructions for updating:\n",
      "Call initializer instance with the dtype argument instead of passing it to the constructor\n"
     ]
    },
    {
     "name": "stdout",
     "output_type": "stream",
     "text": [
      "Train on 6680 samples, validate on 835 samples\n",
      "Epoch 1/20\n",
      "Epoch 00001: val_loss improved from inf to 4.70544, saving model to saved_models/weights.best.from_scratch.hdf5\n",
      " - 6s - loss: 4.8524 - acc: 0.0157 - val_loss: 4.7054 - val_acc: 0.0228\n",
      "Epoch 2/20\n",
      "Epoch 00002: val_loss improved from 4.70544 to 4.33391, saving model to saved_models/weights.best.from_scratch.hdf5\n",
      " - 5s - loss: 4.4659 - acc: 0.0575 - val_loss: 4.3339 - val_acc: 0.0683\n",
      "Epoch 3/20\n",
      "Epoch 00003: val_loss improved from 4.33391 to 4.07838, saving model to saved_models/weights.best.from_scratch.hdf5\n",
      " - 5s - loss: 3.9461 - acc: 0.1226 - val_loss: 4.0784 - val_acc: 0.0982\n",
      "Epoch 4/20\n",
      "Epoch 00004: val_loss did not improve\n",
      " - 5s - loss: 3.4612 - acc: 0.1954 - val_loss: 4.1525 - val_acc: 0.1042\n",
      "Epoch 5/20\n",
      "Epoch 00005: val_loss improved from 4.07838 to 3.99541, saving model to saved_models/weights.best.from_scratch.hdf5\n",
      " - 5s - loss: 3.0088 - acc: 0.2787 - val_loss: 3.9954 - val_acc: 0.1162\n",
      "Epoch 6/20\n",
      "Epoch 00006: val_loss did not improve\n",
      " - 5s - loss: 2.5789 - acc: 0.3735 - val_loss: 4.0495 - val_acc: 0.1269\n",
      "Epoch 7/20\n",
      "Epoch 00007: val_loss did not improve\n",
      " - 5s - loss: 2.2049 - acc: 0.4485 - val_loss: 4.2371 - val_acc: 0.1246\n",
      "Epoch 8/20\n",
      "Epoch 00008: val_loss did not improve\n",
      " - 5s - loss: 1.8409 - acc: 0.5265 - val_loss: 4.3280 - val_acc: 0.1305\n",
      "Epoch 9/20\n",
      "Epoch 00009: val_loss did not improve\n",
      " - 5s - loss: 1.4989 - acc: 0.6018 - val_loss: 4.9827 - val_acc: 0.1317\n",
      "Epoch 10/20\n",
      "Epoch 00010: val_loss did not improve\n",
      " - 5s - loss: 1.2075 - acc: 0.6777 - val_loss: 5.2106 - val_acc: 0.1413\n",
      "Epoch 11/20\n",
      "Epoch 00011: val_loss did not improve\n",
      " - 5s - loss: 0.9554 - acc: 0.7338 - val_loss: 5.5967 - val_acc: 0.1246\n",
      "Epoch 12/20\n",
      "Epoch 00012: val_loss did not improve\n",
      " - 5s - loss: 0.7239 - acc: 0.7993 - val_loss: 6.1093 - val_acc: 0.1234\n",
      "Epoch 13/20\n",
      "Epoch 00013: val_loss did not improve\n",
      " - 5s - loss: 0.5444 - acc: 0.8440 - val_loss: 7.4080 - val_acc: 0.1078\n",
      "Epoch 14/20\n",
      "Epoch 00014: val_loss did not improve\n",
      " - 5s - loss: 0.4202 - acc: 0.8807 - val_loss: 7.3977 - val_acc: 0.1210\n",
      "Epoch 15/20\n",
      "Epoch 00015: val_loss did not improve\n",
      " - 5s - loss: 0.3256 - acc: 0.9037 - val_loss: 7.8581 - val_acc: 0.1425\n",
      "Epoch 16/20\n",
      "Epoch 00016: val_loss did not improve\n",
      " - 5s - loss: 0.2499 - acc: 0.9247 - val_loss: 8.5161 - val_acc: 0.1425\n",
      "Epoch 17/20\n",
      "Epoch 00017: val_loss did not improve\n",
      " - 5s - loss: 0.2034 - acc: 0.9376 - val_loss: 9.2467 - val_acc: 0.1281\n",
      "Epoch 18/20\n",
      "Epoch 00018: val_loss did not improve\n",
      " - 6s - loss: 0.1714 - acc: 0.9504 - val_loss: 9.0819 - val_acc: 0.1365\n",
      "Epoch 19/20\n",
      "Epoch 00019: val_loss did not improve\n",
      " - 5s - loss: 0.1401 - acc: 0.9570 - val_loss: 10.4272 - val_acc: 0.1341\n",
      "Epoch 20/20\n",
      "Epoch 00020: val_loss did not improve\n",
      " - 5s - loss: 0.1446 - acc: 0.9572 - val_loss: 9.7523 - val_acc: 0.1257\n"
     ]
    }
   ],
   "source": [
    "from keras.callbacks import ModelCheckpoint  \n",
    "\n",
    "### TODO: specify the number of epochs that you would like to use to train the model.\n",
    "\n",
    "epochs = 20\n",
    "\n",
    "### Do NOT modify the code below this line.\n",
    "\n",
    "checkpointer = ModelCheckpoint(filepath='saved_models/weights.best.from_scratch.hdf5', \n",
    "                               verbose=1, save_best_only=True)\n",
    "\n",
    "\n",
    "hist = model.fit(train_tensors, train_targets, \n",
    "                 validation_data=(valid_tensors, valid_targets),\n",
    "                 epochs=epochs, batch_size=20, callbacks=[checkpointer], verbose=2)"
   ]
  },
  {
   "cell_type": "markdown",
   "metadata": {},
   "source": [
    "### Load the Model with the Best Validation Loss"
   ]
  },
  {
   "cell_type": "code",
   "execution_count": 19,
   "metadata": {},
   "outputs": [],
   "source": [
    "model.load_weights('saved_models/weights.best.from_scratch.hdf5')"
   ]
  },
  {
   "cell_type": "markdown",
   "metadata": {},
   "source": [
    "### Test the Model\n",
    "\n",
    "Try out your model on the test dataset of dog images.  Ensure that your test accuracy is greater than 1%."
   ]
  },
  {
   "cell_type": "code",
   "execution_count": 20,
   "metadata": {},
   "outputs": [
    {
     "name": "stdout",
     "output_type": "stream",
     "text": [
      "Test accuracy: 14.1148%\n"
     ]
    }
   ],
   "source": [
    "# get index of predicted dog breed for each image in test set\n",
    "dog_breed_predictions = [np.argmax(model.predict(np.expand_dims(tensor, axis=0))) for tensor in test_tensors]\n",
    "\n",
    "# report test accuracy\n",
    "test_accuracy = 100*np.sum(np.array(dog_breed_predictions)==np.argmax(test_targets, axis=1))/len(dog_breed_predictions)\n",
    "print('Test accuracy: %.4f%%' % test_accuracy)"
   ]
  },
  {
   "cell_type": "markdown",
   "metadata": {},
   "source": [
    "---\n",
    "<a id='step4'></a>\n",
    "## Step 4: Use a CNN to Classify Dog Breeds\n",
    "\n",
    "To reduce training time without sacrificing accuracy, we show you how to train a CNN using transfer learning.  In the following step, you will get a chance to use transfer learning to train your own CNN.\n",
    "\n",
    "### Obtain Bottleneck Features"
   ]
  },
  {
   "cell_type": "code",
   "execution_count": 21,
   "metadata": {},
   "outputs": [],
   "source": [
    "bottleneck_features = np.load('bottleneck_features/DogVGG16Data.npz')\n",
    "train_VGG16 = bottleneck_features['train']\n",
    "valid_VGG16 = bottleneck_features['valid']\n",
    "test_VGG16 = bottleneck_features['test']"
   ]
  },
  {
   "cell_type": "markdown",
   "metadata": {},
   "source": [
    "### Model Architecture\n",
    "\n",
    "The model uses the the pre-trained VGG-16 model as a fixed feature extractor, where the last convolutional output of VGG-16 is fed as input to our model.  We only add a global average pooling layer and a fully connected layer, where the latter contains one node for each dog category and is equipped with a softmax."
   ]
  },
  {
   "cell_type": "code",
   "execution_count": 22,
   "metadata": {},
   "outputs": [
    {
     "name": "stdout",
     "output_type": "stream",
     "text": [
      "_________________________________________________________________\n",
      "Layer (type)                 Output Shape              Param #   \n",
      "=================================================================\n",
      "global_average_pooling2d_1 ( (None, 512)               0         \n",
      "_________________________________________________________________\n",
      "dense_2 (Dense)              (None, 133)               68229     \n",
      "=================================================================\n",
      "Total params: 68,229\n",
      "Trainable params: 68,229\n",
      "Non-trainable params: 0\n",
      "_________________________________________________________________\n"
     ]
    }
   ],
   "source": [
    "VGG16_model = Sequential()\n",
    "VGG16_model.add(GlobalAveragePooling2D(input_shape=train_VGG16.shape[1:]))\n",
    "VGG16_model.add(Dense(133, activation='softmax'))\n",
    "\n",
    "VGG16_model.summary()"
   ]
  },
  {
   "cell_type": "markdown",
   "metadata": {},
   "source": [
    "### Compile the Model"
   ]
  },
  {
   "cell_type": "code",
   "execution_count": 23,
   "metadata": {},
   "outputs": [],
   "source": [
    "VGG16_model.compile(loss='categorical_crossentropy', optimizer='rmsprop', metrics=['accuracy'])"
   ]
  },
  {
   "cell_type": "markdown",
   "metadata": {},
   "source": [
    "### Train the Model"
   ]
  },
  {
   "cell_type": "code",
   "execution_count": 24,
   "metadata": {},
   "outputs": [
    {
     "name": "stdout",
     "output_type": "stream",
     "text": [
      "Train on 6680 samples, validate on 835 samples\n",
      "Epoch 1/20\n",
      "6320/6680 [===========================>..] - ETA: 0s - loss: 12.2639 - acc: 0.1234Epoch 00001: val_loss improved from inf to 10.82712, saving model to saved_models/weights.best.VGG16.hdf5\n",
      "6680/6680 [==============================] - 1s 188us/step - loss: 12.1806 - acc: 0.1287 - val_loss: 10.8271 - val_acc: 0.2228\n",
      "Epoch 2/20\n",
      "6460/6680 [============================>.] - ETA: 0s - loss: 10.0533 - acc: 0.2867Epoch 00002: val_loss improved from 10.82712 to 10.19663, saving model to saved_models/weights.best.VGG16.hdf5\n",
      "6680/6680 [==============================] - 1s 113us/step - loss: 10.0681 - acc: 0.2864 - val_loss: 10.1966 - val_acc: 0.2826\n",
      "Epoch 3/20\n",
      "6440/6680 [===========================>..] - ETA: 0s - loss: 9.6353 - acc: 0.3491Epoch 00003: val_loss improved from 10.19663 to 9.99640, saving model to saved_models/weights.best.VGG16.hdf5\n",
      "6680/6680 [==============================] - 1s 113us/step - loss: 9.6473 - acc: 0.3482 - val_loss: 9.9964 - val_acc: 0.3030\n",
      "Epoch 4/20\n",
      "6540/6680 [============================>.] - ETA: 0s - loss: 9.3994 - acc: 0.3713Epoch 00004: val_loss improved from 9.99640 to 9.79423, saving model to saved_models/weights.best.VGG16.hdf5\n",
      "6680/6680 [==============================] - 1s 120us/step - loss: 9.4080 - acc: 0.3704 - val_loss: 9.7942 - val_acc: 0.3234\n",
      "Epoch 5/20\n",
      "6660/6680 [============================>.] - ETA: 0s - loss: 9.1977 - acc: 0.3925Epoch 00005: val_loss improved from 9.79423 to 9.65077, saving model to saved_models/weights.best.VGG16.hdf5\n",
      "6680/6680 [==============================] - 1s 117us/step - loss: 9.1987 - acc: 0.3924 - val_loss: 9.6508 - val_acc: 0.3401\n",
      "Epoch 6/20\n",
      "6220/6680 [==========================>...] - ETA: 0s - loss: 9.0402 - acc: 0.4101Epoch 00006: val_loss improved from 9.65077 to 9.46995, saving model to saved_models/weights.best.VGG16.hdf5\n",
      "6680/6680 [==============================] - 1s 116us/step - loss: 9.0399 - acc: 0.4100 - val_loss: 9.4699 - val_acc: 0.3473\n",
      "Epoch 7/20\n",
      "6420/6680 [===========================>..] - ETA: 0s - loss: 8.9514 - acc: 0.4182Epoch 00007: val_loss improved from 9.46995 to 9.36444, saving model to saved_models/weights.best.VGG16.hdf5\n",
      "6680/6680 [==============================] - 1s 114us/step - loss: 8.9426 - acc: 0.4183 - val_loss: 9.3644 - val_acc: 0.3497\n",
      "Epoch 8/20\n",
      "6540/6680 [============================>.] - ETA: 0s - loss: 8.8197 - acc: 0.4326Epoch 00008: val_loss did not improve\n",
      "6680/6680 [==============================] - 1s 118us/step - loss: 8.8139 - acc: 0.4331 - val_loss: 9.3917 - val_acc: 0.3521\n",
      "Epoch 9/20\n",
      "6520/6680 [============================>.] - ETA: 0s - loss: 8.7688 - acc: 0.4411Epoch 00009: val_loss improved from 9.36444 to 9.31771, saving model to saved_models/weights.best.VGG16.hdf5\n",
      "6680/6680 [==============================] - 1s 118us/step - loss: 8.7837 - acc: 0.4403 - val_loss: 9.3177 - val_acc: 0.3569\n",
      "Epoch 10/20\n",
      "6400/6680 [===========================>..] - ETA: 0s - loss: 8.7453 - acc: 0.4434Epoch 00010: val_loss improved from 9.31771 to 9.25964, saving model to saved_models/weights.best.VGG16.hdf5\n",
      "6680/6680 [==============================] - 1s 113us/step - loss: 8.7479 - acc: 0.4433 - val_loss: 9.2596 - val_acc: 0.3605\n",
      "Epoch 11/20\n",
      "6540/6680 [============================>.] - ETA: 0s - loss: 8.6809 - acc: 0.4502Epoch 00011: val_loss did not improve\n",
      "6680/6680 [==============================] - 1s 110us/step - loss: 8.6662 - acc: 0.4509 - val_loss: 9.3034 - val_acc: 0.3533\n",
      "Epoch 12/20\n",
      "6460/6680 [============================>.] - ETA: 0s - loss: 8.6372 - acc: 0.4551Epoch 00012: val_loss improved from 9.25964 to 9.17177, saving model to saved_models/weights.best.VGG16.hdf5\n",
      "6680/6680 [==============================] - 1s 112us/step - loss: 8.6363 - acc: 0.4551 - val_loss: 9.1718 - val_acc: 0.3784\n",
      "Epoch 13/20\n",
      "6540/6680 [============================>.] - ETA: 0s - loss: 8.6152 - acc: 0.4593Epoch 00013: val_loss did not improve\n",
      "6680/6680 [==============================] - 1s 118us/step - loss: 8.6207 - acc: 0.4585 - val_loss: 9.2822 - val_acc: 0.3737\n",
      "Epoch 14/20\n",
      "6380/6680 [===========================>..] - ETA: 0s - loss: 8.5100 - acc: 0.4561Epoch 00014: val_loss improved from 9.17177 to 9.11686, saving model to saved_models/weights.best.VGG16.hdf5\n",
      "6680/6680 [==============================] - 1s 113us/step - loss: 8.5119 - acc: 0.4555 - val_loss: 9.1169 - val_acc: 0.3665\n",
      "Epoch 15/20\n",
      "6380/6680 [===========================>..] - ETA: 0s - loss: 8.3186 - acc: 0.4690Epoch 00015: val_loss improved from 9.11686 to 8.99497, saving model to saved_models/weights.best.VGG16.hdf5\n",
      "6680/6680 [==============================] - 1s 113us/step - loss: 8.3322 - acc: 0.4677 - val_loss: 8.9950 - val_acc: 0.3868\n",
      "Epoch 16/20\n",
      "6580/6680 [============================>.] - ETA: 0s - loss: 8.1900 - acc: 0.4783Epoch 00016: val_loss improved from 8.99497 to 8.93059, saving model to saved_models/weights.best.VGG16.hdf5\n",
      "6680/6680 [==============================] - 1s 119us/step - loss: 8.1982 - acc: 0.4778 - val_loss: 8.9306 - val_acc: 0.3952\n",
      "Epoch 17/20\n",
      "6340/6680 [===========================>..] - ETA: 0s - loss: 8.0801 - acc: 0.4882Epoch 00017: val_loss improved from 8.93059 to 8.89718, saving model to saved_models/weights.best.VGG16.hdf5\n",
      "6680/6680 [==============================] - 1s 123us/step - loss: 8.0902 - acc: 0.4876 - val_loss: 8.8972 - val_acc: 0.3892\n",
      "Epoch 18/20\n",
      "6300/6680 [===========================>..] - ETA: 0s - loss: 8.0634 - acc: 0.4930Epoch 00018: val_loss did not improve\n",
      "6680/6680 [==============================] - 1s 122us/step - loss: 8.0694 - acc: 0.4925 - val_loss: 8.9000 - val_acc: 0.3844\n",
      "Epoch 19/20\n",
      "6340/6680 [===========================>..] - ETA: 0s - loss: 7.9666 - acc: 0.4964Epoch 00019: val_loss improved from 8.89718 to 8.71867, saving model to saved_models/weights.best.VGG16.hdf5\n",
      "6680/6680 [==============================] - 1s 122us/step - loss: 7.9550 - acc: 0.4975 - val_loss: 8.7187 - val_acc: 0.3940\n",
      "Epoch 20/20\n",
      "6300/6680 [===========================>..] - ETA: 0s - loss: 7.8567 - acc: 0.5038Epoch 00020: val_loss improved from 8.71867 to 8.58153, saving model to saved_models/weights.best.VGG16.hdf5\n",
      "6680/6680 [==============================] - 1s 123us/step - loss: 7.8518 - acc: 0.5042 - val_loss: 8.5815 - val_acc: 0.4084\n"
     ]
    },
    {
     "data": {
      "text/plain": [
       "<keras.callbacks.History at 0x7f55ec2294a8>"
      ]
     },
     "execution_count": 24,
     "metadata": {},
     "output_type": "execute_result"
    }
   ],
   "source": [
    "checkpointer = ModelCheckpoint(filepath='saved_models/weights.best.VGG16.hdf5', \n",
    "                               verbose=1, save_best_only=True)\n",
    "\n",
    "VGG16_model.fit(train_VGG16, train_targets, \n",
    "          validation_data=(valid_VGG16, valid_targets),\n",
    "          epochs=20, batch_size=20, callbacks=[checkpointer], verbose=1)"
   ]
  },
  {
   "cell_type": "markdown",
   "metadata": {},
   "source": [
    "### Load the Model with the Best Validation Loss"
   ]
  },
  {
   "cell_type": "code",
   "execution_count": 25,
   "metadata": {},
   "outputs": [],
   "source": [
    "VGG16_model.load_weights('saved_models/weights.best.VGG16.hdf5')"
   ]
  },
  {
   "cell_type": "code",
   "execution_count": 26,
   "metadata": {},
   "outputs": [
    {
     "name": "stdout",
     "output_type": "stream",
     "text": [
      "_________________________________________________________________\n",
      "Layer (type)                 Output Shape              Param #   \n",
      "=================================================================\n",
      "global_average_pooling2d_1 ( (None, 512)               0         \n",
      "_________________________________________________________________\n",
      "dense_2 (Dense)              (None, 133)               68229     \n",
      "=================================================================\n",
      "Total params: 68,229\n",
      "Trainable params: 68,229\n",
      "Non-trainable params: 0\n",
      "_________________________________________________________________\n"
     ]
    }
   ],
   "source": [
    "VGG16_model.summary()"
   ]
  },
  {
   "cell_type": "markdown",
   "metadata": {},
   "source": [
    "### Test the Model\n",
    "\n",
    "Now, we can use the CNN to test how well it identifies breed within our test dataset of dog images.  We print the test accuracy below."
   ]
  },
  {
   "cell_type": "code",
   "execution_count": 27,
   "metadata": {},
   "outputs": [
    {
     "name": "stdout",
     "output_type": "stream",
     "text": [
      "Test accuracy: 41.1483%\n"
     ]
    }
   ],
   "source": [
    "# get index of predicted dog breed for each image in test set\n",
    "VGG16_predictions = [np.argmax(VGG16_model.predict(np.expand_dims(feature, axis=0))) for feature in test_VGG16]\n",
    "\n",
    "# report test accuracy\n",
    "test_accuracy = 100*np.sum(np.array(VGG16_predictions)==np.argmax(test_targets, axis=1))/len(VGG16_predictions)\n",
    "print('Test accuracy: %.4f%%' % test_accuracy)"
   ]
  },
  {
   "cell_type": "markdown",
   "metadata": {},
   "source": [
    "### Predict Dog Breed with the Model"
   ]
  },
  {
   "cell_type": "code",
   "execution_count": 28,
   "metadata": {},
   "outputs": [],
   "source": [
    "from extract_bottleneck_features import *\n",
    "\n",
    "def VGG16_predict_breed(img_path):\n",
    "    # extract bottleneck features\n",
    "    bottleneck_feature = extract_VGG16(path_to_tensor(img_path))\n",
    "    # obtain predicted vector\n",
    "    predicted_vector = VGG16_model.predict(bottleneck_feature)\n",
    "    # return dog breed that is predicted by the model\n",
    "    return dog_names[np.argmax(predicted_vector)]"
   ]
  },
  {
   "cell_type": "markdown",
   "metadata": {},
   "source": [
    "---\n",
    "<a id='step5'></a>\n",
    "## Step 5: Create a CNN to Classify Dog Breeds (using Transfer Learning)\n",
    "\n",
    "You will now use transfer learning to create a CNN that can identify dog breed from images.  Your CNN must attain at least 60% accuracy on the test set.\n",
    "\n",
    "In Step 4, we used transfer learning to create a CNN using VGG-16 bottleneck features.  In this section, you must use the bottleneck features from a different pre-trained model.  To make things easier for you, we have pre-computed the features for all of the networks that are currently available in Keras:\n",
    "- [VGG-19](https://s3-us-west-1.amazonaws.com/udacity-aind/dog-project/DogVGG19Data.npz) bottleneck features\n",
    "- [ResNet-50](https://s3-us-west-1.amazonaws.com/udacity-aind/dog-project/DogResnet50Data.npz) bottleneck features\n",
    "- [Inception](https://s3-us-west-1.amazonaws.com/udacity-aind/dog-project/DogInceptionV3Data.npz) bottleneck features\n",
    "- [Xception](https://s3-us-west-1.amazonaws.com/udacity-aind/dog-project/DogXceptionData.npz) bottleneck features\n",
    "\n",
    "The files are encoded as such:\n",
    "\n",
    "    Dog{network}Data.npz\n",
    "    \n",
    "where `{network}`, in the above filename, can be one of `VGG19`, `Resnet50`, `InceptionV3`, or `Xception`.  Pick one of the above architectures, download the corresponding bottleneck features, and store the downloaded file in the `bottleneck_features/` folder in the repository.\n",
    "\n",
    "*[OBS] Following the order they were created*\n",
    "\n",
    "1. VGG16\n",
    "2. VGG19\n",
    "3. ResNet50\n",
    "4. Inception V3\n",
    "5. Xception\n",
    "\n",
    "\n",
    "### (IMPLEMENTATION) Obtain Bottleneck Features\n",
    "\n",
    "In the code block below, extract the bottleneck features corresponding to the train, test, and validation sets by running the following:\n",
    "\n",
    "    bottleneck_features = np.load('bottleneck_features/Dog{network}Data.npz')\n",
    "    train_{network} = bottleneck_features['train']\n",
    "    valid_{network} = bottleneck_features['valid']\n",
    "    test_{network} = bottleneck_features['test']"
   ]
  },
  {
   "cell_type": "markdown",
   "metadata": {},
   "source": [
    "### (IMPLEMENTATION) Model Architecture\n",
    "\n",
    "Create a CNN to classify dog breed.  At the end of your code cell block, summarize the layers of your model by executing the line:\n",
    "    \n",
    "        <your model's name>.summary()\n",
    "   \n",
    "__Question 5:__ Outline the steps you took to get to your final CNN architecture and your reasoning at each step.  Describe why you think the architecture is suitable for the current problem.\n",
    "\n",
    "__Answer:__ \n",
    "\n",
    "I decided at start compare the first networks with the same final layer added in the example (just one global average in the end). I tested them in the order they were created. \n",
    "\n",
    "All the accuracies shown were captured in the fit, they were defined with the weight that had the minimum loss function value. Non of the values exposed were from test data.\n",
    "\n",
    "With this network, I achieved this acc:\n",
    "\n",
    "1. VGG16 + GA Layer => acc: **%45.75**\n",
    "2. VGG19 + GA Layer => acc: **%48.38**\n",
    "3. Resnet50 + GA Layer => acc: **%83.59**\n",
    "4. InceptionV3 + GA Layer => acc: **%84.07**\n",
    "5. Xception + GA Layer => acc: **%84.31**\n",
    "\n",
    "I chosed at this point InceptionV3 and changed the final part of the CNN. I removed the global average layer and I added one flatten layer, which increases the total params from *272,517* to *6,809,733* and achieved the acc of **13.41%**. Than I added a Dense fully connected layer with 300 nodes and relu as activation function, further increasing the total params to *15,400,333* and further reducing the acc to **10.66%**. Ok, this is the wrong way!\n",
    "\n",
    "Then, I started to iterate in the network that I appended in the chosen cnn. I added some Dense layers after the global average, with few nodes (10); with the same number of the categories (133); with many nodes (300), with more than one of those layers shown before, and none of those arquitectures produces an Ok result, all of them were around **60%**, with luck around **70%**.\n",
    "\n",
    "After this, I thought that I could change the Global Pooling layer, to a GlobalMaxPolling layer, and it was another bad decision, it achieved around of **60%**.\n",
    "\n",
    "At this point I knew that my final design was the initial one, with the global average polling layer and the dense layer with the 133 nodes that represents the 133 breeds.\n",
    "\n",
    "For the final push to tunning even more the accuracy, I tried to change the optimizer and with Adam I reached my best result, **85.03%** of accuracy.\n",
    "\n",
    "The following code demonstrates the architect that I propose for this transfer learning:"
   ]
  },
  {
   "cell_type": "code",
   "execution_count": 111,
   "metadata": {},
   "outputs": [],
   "source": [
    "#reading the bottlenecks\n",
    "chosen_cnn = 'Xception'\n",
    "\n",
    "bottleneck_features = None\n",
    "train_transfer_learning = None\n",
    "valid_transfer_learning = None\n",
    "test_transfer_learning = None\n",
    "\n",
    "bottleneck_features = np.load(f'bottleneck_features/Dog{chosen_cnn}Data.npz')\n",
    "train_transfer_learning = bottleneck_features['train']\n",
    "valid_transfer_learning = bottleneck_features['valid']\n",
    "test_transfer_learning = bottleneck_features['test']"
   ]
  },
  {
   "cell_type": "code",
   "execution_count": 112,
   "metadata": {},
   "outputs": [
    {
     "name": "stdout",
     "output_type": "stream",
     "text": [
      "_________________________________________________________________\n",
      "Layer (type)                 Output Shape              Param #   \n",
      "=================================================================\n",
      "global_average_pooling2d_20  (None, 2048)              0         \n",
      "_________________________________________________________________\n",
      "dense_41 (Dense)             (None, 133)               272517    \n",
      "=================================================================\n",
      "Total params: 272,517\n",
      "Trainable params: 272,517\n",
      "Non-trainable params: 0\n",
      "_________________________________________________________________\n"
     ]
    }
   ],
   "source": [
    "### TODO: Define your architecture.\n",
    "\n",
    "from keras.layers import GlobalMaxPooling2D\n",
    "\n",
    "transfer_learning_model = Sequential()\n",
    "transfer_learning_model.add(GlobalAveragePooling2D(input_shape=train_transfer_learning.shape[1:]))\n",
    "# transfer_learning_model.add(GlobalMaxPooling2D(input_shape=train_transfer_learning.shape[1:]))\n",
    "# transfer_learning_model.add(Flatten(input_shape=train_transfer_learning.shape[1:]))\n",
    "# transfer_learning_model.add(Dense(10, activation='elu'))\n",
    "# transfer_learning_model.add(Dense(10, activation='relu'))\n",
    "transfer_learning_model.add(Dense(133, activation='softmax'))\n",
    "\n",
    "transfer_learning_model.summary()"
   ]
  },
  {
   "cell_type": "markdown",
   "metadata": {},
   "source": [
    "### (IMPLEMENTATION) Compile the Model"
   ]
  },
  {
   "cell_type": "code",
   "execution_count": 114,
   "metadata": {},
   "outputs": [],
   "source": [
    "transfer_learning_model.compile(loss='categorical_crossentropy', optimizer='adam', metrics=['accuracy'])"
   ]
  },
  {
   "cell_type": "markdown",
   "metadata": {},
   "source": [
    "### (IMPLEMENTATION) Train the Model\n",
    "\n",
    "Train your model in the code cell below.  Use model checkpointing to save the model that attains the best validation loss.  \n",
    "\n",
    "You are welcome to [augment the training data](https://blog.keras.io/building-powerful-image-classification-models-using-very-little-data.html), but this is not a requirement. "
   ]
  },
  {
   "cell_type": "code",
   "execution_count": 115,
   "metadata": {},
   "outputs": [
    {
     "name": "stdout",
     "output_type": "stream",
     "text": [
      "Train on 6680 samples, validate on 835 samples\n",
      "Epoch 1/30\n",
      "Epoch 00001: val_loss improved from inf to 0.57271, saving model to saved_models/weights.best.Xception.hdf5\n",
      " - 7s - loss: 1.1218 - acc: 0.7280 - val_loss: 0.5727 - val_acc: 0.8216\n",
      "Epoch 2/30\n",
      "Epoch 00002: val_loss improved from 0.57271 to 0.49204, saving model to saved_models/weights.best.Xception.hdf5\n",
      " - 2s - loss: 0.3411 - acc: 0.8984 - val_loss: 0.4920 - val_acc: 0.8491\n",
      "Epoch 3/30\n",
      "Epoch 00003: val_loss did not improve\n",
      " - 2s - loss: 0.2264 - acc: 0.9347 - val_loss: 0.5071 - val_acc: 0.8443\n",
      "Epoch 4/30\n",
      "Epoch 00004: val_loss improved from 0.49204 to 0.47467, saving model to saved_models/weights.best.Xception.hdf5\n",
      " - 2s - loss: 0.1553 - acc: 0.9611 - val_loss: 0.4747 - val_acc: 0.8503\n",
      "Epoch 5/30\n",
      "Epoch 00005: val_loss did not improve\n",
      " - 2s - loss: 0.1133 - acc: 0.9741 - val_loss: 0.4750 - val_acc: 0.8515\n",
      "Epoch 6/30\n",
      "Epoch 00006: val_loss did not improve\n",
      " - 2s - loss: 0.0866 - acc: 0.9814 - val_loss: 0.4793 - val_acc: 0.8515\n",
      "Epoch 7/30\n",
      "Epoch 00007: val_loss did not improve\n",
      " - 2s - loss: 0.0669 - acc: 0.9885 - val_loss: 0.4759 - val_acc: 0.8515\n",
      "Epoch 8/30\n",
      "Epoch 00008: val_loss did not improve\n",
      " - 2s - loss: 0.0540 - acc: 0.9909 - val_loss: 0.4804 - val_acc: 0.8623\n",
      "Epoch 9/30\n",
      "Epoch 00009: val_loss did not improve\n",
      " - 2s - loss: 0.0430 - acc: 0.9948 - val_loss: 0.4918 - val_acc: 0.8527\n",
      "Epoch 10/30\n",
      "Epoch 00010: val_loss did not improve\n",
      " - 2s - loss: 0.0367 - acc: 0.9957 - val_loss: 0.5170 - val_acc: 0.8563\n",
      "Epoch 11/30\n",
      "Epoch 00011: val_loss did not improve\n",
      " - 2s - loss: 0.0323 - acc: 0.9966 - val_loss: 0.4900 - val_acc: 0.8599\n",
      "Epoch 12/30\n",
      "Epoch 00012: val_loss did not improve\n",
      " - 2s - loss: 0.0261 - acc: 0.9972 - val_loss: 0.4921 - val_acc: 0.8515\n",
      "Epoch 13/30\n",
      "Epoch 00013: val_loss did not improve\n",
      " - 2s - loss: 0.0233 - acc: 0.9972 - val_loss: 0.4997 - val_acc: 0.8539\n",
      "Epoch 14/30\n",
      "Epoch 00014: val_loss did not improve\n",
      " - 2s - loss: 0.0195 - acc: 0.9979 - val_loss: 0.4975 - val_acc: 0.8551\n",
      "Epoch 15/30\n",
      "Epoch 00015: val_loss did not improve\n",
      " - 2s - loss: 0.0180 - acc: 0.9975 - val_loss: 0.5086 - val_acc: 0.8623\n",
      "Epoch 16/30\n",
      "Epoch 00016: val_loss did not improve\n",
      " - 2s - loss: 0.0142 - acc: 0.9982 - val_loss: 0.5274 - val_acc: 0.8539\n",
      "Epoch 17/30\n",
      "Epoch 00017: val_loss did not improve\n",
      " - 2s - loss: 0.0146 - acc: 0.9975 - val_loss: 0.5798 - val_acc: 0.8551\n",
      "Epoch 18/30\n",
      "Epoch 00018: val_loss did not improve\n",
      " - 2s - loss: 0.0156 - acc: 0.9967 - val_loss: 0.5422 - val_acc: 0.8551\n",
      "Epoch 19/30\n",
      "Epoch 00019: val_loss did not improve\n",
      " - 2s - loss: 0.0146 - acc: 0.9970 - val_loss: 0.5393 - val_acc: 0.8575\n",
      "Epoch 20/30\n",
      "Epoch 00020: val_loss did not improve\n",
      " - 2s - loss: 0.0111 - acc: 0.9982 - val_loss: 0.5447 - val_acc: 0.8563\n",
      "Epoch 21/30\n",
      "Epoch 00021: val_loss did not improve\n",
      " - 2s - loss: 0.0094 - acc: 0.9984 - val_loss: 0.5609 - val_acc: 0.8563\n",
      "Epoch 22/30\n",
      "Epoch 00022: val_loss did not improve\n",
      " - 2s - loss: 0.0079 - acc: 0.9990 - val_loss: 0.5851 - val_acc: 0.8539\n",
      "Epoch 23/30\n",
      "Epoch 00023: val_loss did not improve\n",
      " - 2s - loss: 0.0086 - acc: 0.9981 - val_loss: 0.5807 - val_acc: 0.8515\n",
      "Epoch 24/30\n",
      "Epoch 00024: val_loss did not improve\n",
      " - 2s - loss: 0.0077 - acc: 0.9985 - val_loss: 0.5692 - val_acc: 0.8599\n",
      "Epoch 25/30\n",
      "Epoch 00025: val_loss did not improve\n",
      " - 2s - loss: 0.0073 - acc: 0.9981 - val_loss: 0.5906 - val_acc: 0.8599\n",
      "Epoch 26/30\n",
      "Epoch 00026: val_loss did not improve\n",
      " - 2s - loss: 0.0075 - acc: 0.9990 - val_loss: 0.6089 - val_acc: 0.8575\n",
      "Epoch 27/30\n",
      "Epoch 00027: val_loss did not improve\n",
      " - 2s - loss: 0.0074 - acc: 0.9984 - val_loss: 0.6193 - val_acc: 0.8539\n",
      "Epoch 28/30\n",
      "Epoch 00028: val_loss did not improve\n",
      " - 2s - loss: 0.0063 - acc: 0.9990 - val_loss: 0.6149 - val_acc: 0.8527\n",
      "Epoch 29/30\n",
      "Epoch 00029: val_loss did not improve\n",
      " - 2s - loss: 0.0066 - acc: 0.9985 - val_loss: 0.6206 - val_acc: 0.8587\n",
      "Epoch 30/30\n",
      "Epoch 00030: val_loss did not improve\n",
      " - 2s - loss: 0.0054 - acc: 0.9987 - val_loss: 0.6379 - val_acc: 0.8551\n"
     ]
    },
    {
     "data": {
      "text/plain": [
       "<keras.callbacks.History at 0x7f5523c36588>"
      ]
     },
     "execution_count": 115,
     "metadata": {},
     "output_type": "execute_result"
    }
   ],
   "source": [
    "checkpointer = ModelCheckpoint(filepath=f'saved_models/weights.best.{chosen_cnn}.hdf5', \n",
    "                               verbose=1, save_best_only=True)\n",
    "\n",
    "transfer_learning_model.fit(train_transfer_learning, train_targets, \n",
    "                            validation_data=(valid_transfer_learning, valid_targets),\n",
    "                            epochs=30, batch_size=20, callbacks=[checkpointer], verbose=2)"
   ]
  },
  {
   "cell_type": "markdown",
   "metadata": {},
   "source": [
    "### (IMPLEMENTATION) Load the Model with the Best Validation Loss"
   ]
  },
  {
   "cell_type": "code",
   "execution_count": 118,
   "metadata": {},
   "outputs": [],
   "source": [
    "transfer_learning_model.load_weights(f'saved_models/weights.best.{chosen_cnn}.hdf5')"
   ]
  },
  {
   "cell_type": "markdown",
   "metadata": {},
   "source": [
    "### (IMPLEMENTATION) Test the Model\n",
    "\n",
    "Try out your model on the test dataset of dog images. Ensure that your test accuracy is greater than 60%."
   ]
  },
  {
   "cell_type": "code",
   "execution_count": 119,
   "metadata": {},
   "outputs": [
    {
     "name": "stdout",
     "output_type": "stream",
     "text": [
      "Test accuracy: 85.6459%\n"
     ]
    }
   ],
   "source": [
    "# get index of predicted dog breed for each image in test set\n",
    "transfer_learning_predictions = [np.argmax(transfer_learning_model.predict(np.expand_dims(feature, axis=0))) for feature in test_transfer_learning]\n",
    "\n",
    "# report test accuracy\n",
    "test_accuracy = 100*np.sum(np.array(transfer_learning_predictions)==np.argmax(test_targets, axis=1))/len(transfer_learning_predictions)\n",
    "print('Test accuracy: %.4f%%' % test_accuracy)"
   ]
  },
  {
   "cell_type": "markdown",
   "metadata": {},
   "source": [
    "### (IMPLEMENTATION) Predict Dog Breed with the Model\n",
    "\n",
    "Write a function that takes an image path as input and returns the dog breed (`Affenpinscher`, `Afghan_hound`, etc) that is predicted by your model.  \n",
    "\n",
    "Similar to the analogous function in Step 5, your function should have three steps:\n",
    "1. Extract the bottleneck features corresponding to the chosen CNN model.\n",
    "2. Supply the bottleneck features as input to the model to return the predicted vector.  Note that the argmax of this prediction vector gives the index of the predicted dog breed.\n",
    "3. Use the `dog_names` array defined in Step 0 of this notebook to return the corresponding breed.\n",
    "\n",
    "The functions to extract the bottleneck features can be found in `extract_bottleneck_features.py`, and they have been imported in an earlier code cell.  To obtain the bottleneck features corresponding to your chosen CNN architecture, you need to use the function\n",
    "\n",
    "    extract_{network}\n",
    "    \n",
    "where `{network}`, in the above filename, should be one of `VGG19`, `Resnet50`, `InceptionV3`, or `Xception`."
   ]
  },
  {
   "cell_type": "code",
   "execution_count": null,
   "metadata": {},
   "outputs": [],
   "source": [
    "### TODO: Write a function that takes a path to an image as input\n",
    "### and returns the dog breed that is predicted by the model."
   ]
  },
  {
   "cell_type": "markdown",
   "metadata": {},
   "source": [
    "---\n",
    "<a id='step6'></a>\n",
    "## Step 6: Write your Algorithm\n",
    "\n",
    "Write an algorithm that accepts a file path to an image and first determines whether the image contains a human, dog, or neither.  Then,\n",
    "- if a __dog__ is detected in the image, return the predicted breed.\n",
    "- if a __human__ is detected in the image, return the resembling dog breed.\n",
    "- if __neither__ is detected in the image, provide output that indicates an error.\n",
    "\n",
    "You are welcome to write your own functions for detecting humans and dogs in images, but feel free to use the `face_detector` and `dog_detector` functions developed above.  You are __required__ to use your CNN from Step 5 to predict dog breed.  \n",
    "\n",
    "Some sample output for our algorithm is provided below, but feel free to design your own user experience!\n",
    "\n",
    "![Sample Human Output](images/sample_human_output.png)\n",
    "\n",
    "\n",
    "### (IMPLEMENTATION) Write your Algorithm"
   ]
  },
  {
   "cell_type": "code",
   "execution_count": null,
   "metadata": {},
   "outputs": [],
   "source": [
    "### TODO: Write your algorithm.\n",
    "### Feel free to use as many code cells as needed."
   ]
  },
  {
   "cell_type": "markdown",
   "metadata": {},
   "source": [
    "---\n",
    "<a id='step7'></a>\n",
    "## Step 7: Test Your Algorithm\n",
    "\n",
    "In this section, you will take your new algorithm for a spin!  What kind of dog does the algorithm think that __you__ look like?  If you have a dog, does it predict your dog's breed accurately?  If you have a cat, does it mistakenly think that your cat is a dog?\n",
    "\n",
    "### (IMPLEMENTATION) Test Your Algorithm on Sample Images!\n",
    "\n",
    "Test your algorithm at least six images on your computer.  Feel free to use any images you like.  Use at least two human and two dog images.  \n",
    "\n",
    "__Question 6:__ Is the output better than you expected :) ?  Or worse :( ?  Provide at least three possible points of improvement for your algorithm.\n",
    "\n",
    "__Answer:__ "
   ]
  },
  {
   "cell_type": "code",
   "execution_count": null,
   "metadata": {},
   "outputs": [],
   "source": [
    "## TODO: Execute your algorithm from Step 6 on\n",
    "## at least 6 images on your computer.\n",
    "## Feel free to use as many code cells as needed."
   ]
  }
 ],
 "metadata": {
  "anaconda-cloud": {},
  "kernelspec": {
   "display_name": "Python 3 [GPU]",
   "language": "python",
   "name": "python3-tf"
  },
  "language_info": {
   "codemirror_mode": {
    "name": "ipython",
    "version": 3
   },
   "file_extension": ".py",
   "mimetype": "text/x-python",
   "name": "python",
   "nbconvert_exporter": "python",
   "pygments_lexer": "ipython3",
   "version": "3.7.1"
  },
  "toc": {
   "base_numbering": 1,
   "nav_menu": {},
   "number_sections": true,
   "sideBar": true,
   "skip_h1_title": false,
   "title_cell": "Table of Contents",
   "title_sidebar": "Contents",
   "toc_cell": false,
   "toc_position": {},
   "toc_section_display": true,
   "toc_window_display": false
  }
 },
 "nbformat": 4,
 "nbformat_minor": 1
}
